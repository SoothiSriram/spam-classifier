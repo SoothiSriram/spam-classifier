{
 "cells": [
  {
   "cell_type": "markdown",
   "id": "5f508aab",
   "metadata": {},
   "source": [
    "# Bike Price Predictor"
   ]
  },
  {
   "cell_type": "code",
   "execution_count": 5,
   "id": "f96a2469",
   "metadata": {},
   "outputs": [],
   "source": [
    "import numpy as np\n",
    "import pandas as pd"
   ]
  },
  {
   "cell_type": "code",
   "execution_count": 6,
   "id": "6a417e90",
   "metadata": {},
   "outputs": [],
   "source": [
    "data=pd.read_csv('Used_Bikes.csv')"
   ]
  },
  {
   "cell_type": "code",
   "execution_count": 82,
   "id": "2839f4f4",
   "metadata": {},
   "outputs": [
    {
     "data": {
      "text/html": [
       "<div>\n",
       "<style scoped>\n",
       "    .dataframe tbody tr th:only-of-type {\n",
       "        vertical-align: middle;\n",
       "    }\n",
       "\n",
       "    .dataframe tbody tr th {\n",
       "        vertical-align: top;\n",
       "    }\n",
       "\n",
       "    .dataframe thead th {\n",
       "        text-align: right;\n",
       "    }\n",
       "</style>\n",
       "<table border=\"1\" class=\"dataframe\">\n",
       "  <thead>\n",
       "    <tr style=\"text-align: right;\">\n",
       "      <th></th>\n",
       "      <th>bike_name</th>\n",
       "      <th>price</th>\n",
       "      <th>city</th>\n",
       "      <th>kms_driven</th>\n",
       "      <th>owner</th>\n",
       "      <th>age</th>\n",
       "      <th>power</th>\n",
       "      <th>brand</th>\n",
       "    </tr>\n",
       "  </thead>\n",
       "  <tbody>\n",
       "    <tr>\n",
       "      <th>0</th>\n",
       "      <td>TVS Star City Plus Dual Tone 110cc</td>\n",
       "      <td>35000.0</td>\n",
       "      <td>Ahmedabad</td>\n",
       "      <td>17654.0</td>\n",
       "      <td>First Owner</td>\n",
       "      <td>3.0</td>\n",
       "      <td>110.0</td>\n",
       "      <td>TVS</td>\n",
       "    </tr>\n",
       "    <tr>\n",
       "      <th>1</th>\n",
       "      <td>Royal Enfield Classic 350cc</td>\n",
       "      <td>119900.0</td>\n",
       "      <td>Delhi</td>\n",
       "      <td>11000.0</td>\n",
       "      <td>First Owner</td>\n",
       "      <td>4.0</td>\n",
       "      <td>350.0</td>\n",
       "      <td>Royal Enfield</td>\n",
       "    </tr>\n",
       "    <tr>\n",
       "      <th>2</th>\n",
       "      <td>Triumph Daytona 675R</td>\n",
       "      <td>600000.0</td>\n",
       "      <td>Delhi</td>\n",
       "      <td>110.0</td>\n",
       "      <td>First Owner</td>\n",
       "      <td>8.0</td>\n",
       "      <td>675.0</td>\n",
       "      <td>Triumph</td>\n",
       "    </tr>\n",
       "    <tr>\n",
       "      <th>3</th>\n",
       "      <td>TVS Apache RTR 180cc</td>\n",
       "      <td>65000.0</td>\n",
       "      <td>Bangalore</td>\n",
       "      <td>16329.0</td>\n",
       "      <td>First Owner</td>\n",
       "      <td>4.0</td>\n",
       "      <td>180.0</td>\n",
       "      <td>TVS</td>\n",
       "    </tr>\n",
       "    <tr>\n",
       "      <th>4</th>\n",
       "      <td>Yamaha FZ S V 2.0 150cc-Ltd. Edition</td>\n",
       "      <td>80000.0</td>\n",
       "      <td>Bangalore</td>\n",
       "      <td>10000.0</td>\n",
       "      <td>First Owner</td>\n",
       "      <td>3.0</td>\n",
       "      <td>150.0</td>\n",
       "      <td>Yamaha</td>\n",
       "    </tr>\n",
       "  </tbody>\n",
       "</table>\n",
       "</div>"
      ],
      "text/plain": [
       "                              bike_name     price       city  kms_driven  \\\n",
       "0    TVS Star City Plus Dual Tone 110cc   35000.0  Ahmedabad     17654.0   \n",
       "1           Royal Enfield Classic 350cc  119900.0      Delhi     11000.0   \n",
       "2                  Triumph Daytona 675R  600000.0      Delhi       110.0   \n",
       "3                  TVS Apache RTR 180cc   65000.0  Bangalore     16329.0   \n",
       "4  Yamaha FZ S V 2.0 150cc-Ltd. Edition   80000.0  Bangalore     10000.0   \n",
       "\n",
       "         owner  age  power          brand  \n",
       "0  First Owner  3.0  110.0            TVS  \n",
       "1  First Owner  4.0  350.0  Royal Enfield  \n",
       "2  First Owner  8.0  675.0        Triumph  \n",
       "3  First Owner  4.0  180.0            TVS  \n",
       "4  First Owner  3.0  150.0         Yamaha  "
      ]
     },
     "execution_count": 82,
     "metadata": {},
     "output_type": "execute_result"
    }
   ],
   "source": [
    "data.head()"
   ]
  },
  {
   "cell_type": "code",
   "execution_count": 1,
   "id": "b7ccd0cd",
   "metadata": {},
   "outputs": [],
   "source": [
    "from sklearn.preprocessing import OrdinalEncoder,MinMaxScaler"
   ]
  },
  {
   "cell_type": "code",
   "execution_count": 2,
   "id": "391b0e48",
   "metadata": {},
   "outputs": [],
   "source": [
    "OE = OrdinalEncoder()\n",
    "MMS = MinMaxScaler()"
   ]
  },
  {
   "cell_type": "code",
   "execution_count": 10,
   "id": "03568d84",
   "metadata": {},
   "outputs": [],
   "source": [
    "data[[\"bike_name\",\"city\",\"owner\",\"brand\"]] =  OE.fit_transform(data[[\"bike_name\",\"city\",\"owner\",\"brand\"]] )"
   ]
  },
  {
   "cell_type": "code",
   "execution_count": 16,
   "id": "de4928c7",
   "metadata": {},
   "outputs": [],
   "source": [
    "data[[\"bike_name\",\"city\",\"owner\",\"brand\"]] = MMS.fit_transform(data[[\"bike_name\",\"city\",\"owner\",\"brand\"]])"
   ]
  },
  {
   "cell_type": "code",
   "execution_count": 22,
   "id": "430be5e1",
   "metadata": {},
   "outputs": [],
   "source": [
    "data[[\"price\",\"kms_driven\",\"age\",\"power\"]] = MMS.fit_transform(data[[\"price\",\"kms_driven\",\"age\",\"power\"]])"
   ]
  },
  {
   "cell_type": "code",
   "execution_count": 24,
   "id": "0285c66b",
   "metadata": {},
   "outputs": [
    {
     "data": {
      "text/html": [
       "<div>\n",
       "<style scoped>\n",
       "    .dataframe tbody tr th:only-of-type {\n",
       "        vertical-align: middle;\n",
       "    }\n",
       "\n",
       "    .dataframe tbody tr th {\n",
       "        vertical-align: top;\n",
       "    }\n",
       "\n",
       "    .dataframe thead th {\n",
       "        text-align: right;\n",
       "    }\n",
       "</style>\n",
       "<table border=\"1\" class=\"dataframe\">\n",
       "  <thead>\n",
       "    <tr style=\"text-align: right;\">\n",
       "      <th></th>\n",
       "      <th>bike_name</th>\n",
       "      <th>price</th>\n",
       "      <th>city</th>\n",
       "      <th>kms_driven</th>\n",
       "      <th>owner</th>\n",
       "      <th>age</th>\n",
       "      <th>power</th>\n",
       "      <th>brand</th>\n",
       "    </tr>\n",
       "  </thead>\n",
       "  <tbody>\n",
       "    <tr>\n",
       "      <th>bike_name</th>\n",
       "      <td>1.000000</td>\n",
       "      <td>0.058337</td>\n",
       "      <td>0.123082</td>\n",
       "      <td>-0.060455</td>\n",
       "      <td>-0.019190</td>\n",
       "      <td>-0.050415</td>\n",
       "      <td>0.048600</td>\n",
       "      <td>0.974958</td>\n",
       "    </tr>\n",
       "    <tr>\n",
       "      <th>price</th>\n",
       "      <td>0.058337</td>\n",
       "      <td>1.000000</td>\n",
       "      <td>0.091418</td>\n",
       "      <td>-0.313955</td>\n",
       "      <td>-0.042885</td>\n",
       "      <td>-0.399133</td>\n",
       "      <td>0.862376</td>\n",
       "      <td>0.074757</td>\n",
       "    </tr>\n",
       "    <tr>\n",
       "      <th>city</th>\n",
       "      <td>0.123082</td>\n",
       "      <td>0.091418</td>\n",
       "      <td>1.000000</td>\n",
       "      <td>-0.106130</td>\n",
       "      <td>0.139976</td>\n",
       "      <td>0.036128</td>\n",
       "      <td>0.051510</td>\n",
       "      <td>0.091036</td>\n",
       "    </tr>\n",
       "    <tr>\n",
       "      <th>kms_driven</th>\n",
       "      <td>-0.060455</td>\n",
       "      <td>-0.313955</td>\n",
       "      <td>-0.106130</td>\n",
       "      <td>1.000000</td>\n",
       "      <td>-0.016986</td>\n",
       "      <td>0.484684</td>\n",
       "      <td>-0.264016</td>\n",
       "      <td>-0.104825</td>\n",
       "    </tr>\n",
       "    <tr>\n",
       "      <th>owner</th>\n",
       "      <td>-0.019190</td>\n",
       "      <td>-0.042885</td>\n",
       "      <td>0.139976</td>\n",
       "      <td>-0.016986</td>\n",
       "      <td>1.000000</td>\n",
       "      <td>0.297564</td>\n",
       "      <td>0.043130</td>\n",
       "      <td>-0.001168</td>\n",
       "    </tr>\n",
       "    <tr>\n",
       "      <th>age</th>\n",
       "      <td>-0.050415</td>\n",
       "      <td>-0.399133</td>\n",
       "      <td>0.036128</td>\n",
       "      <td>0.484684</td>\n",
       "      <td>0.297564</td>\n",
       "      <td>1.000000</td>\n",
       "      <td>-0.337035</td>\n",
       "      <td>-0.084390</td>\n",
       "    </tr>\n",
       "    <tr>\n",
       "      <th>power</th>\n",
       "      <td>0.048600</td>\n",
       "      <td>0.862376</td>\n",
       "      <td>0.051510</td>\n",
       "      <td>-0.264016</td>\n",
       "      <td>0.043130</td>\n",
       "      <td>-0.337035</td>\n",
       "      <td>1.000000</td>\n",
       "      <td>0.125509</td>\n",
       "    </tr>\n",
       "    <tr>\n",
       "      <th>brand</th>\n",
       "      <td>0.974958</td>\n",
       "      <td>0.074757</td>\n",
       "      <td>0.091036</td>\n",
       "      <td>-0.104825</td>\n",
       "      <td>-0.001168</td>\n",
       "      <td>-0.084390</td>\n",
       "      <td>0.125509</td>\n",
       "      <td>1.000000</td>\n",
       "    </tr>\n",
       "  </tbody>\n",
       "</table>\n",
       "</div>"
      ],
      "text/plain": [
       "            bike_name     price      city  kms_driven     owner       age  \\\n",
       "bike_name    1.000000  0.058337  0.123082   -0.060455 -0.019190 -0.050415   \n",
       "price        0.058337  1.000000  0.091418   -0.313955 -0.042885 -0.399133   \n",
       "city         0.123082  0.091418  1.000000   -0.106130  0.139976  0.036128   \n",
       "kms_driven  -0.060455 -0.313955 -0.106130    1.000000 -0.016986  0.484684   \n",
       "owner       -0.019190 -0.042885  0.139976   -0.016986  1.000000  0.297564   \n",
       "age         -0.050415 -0.399133  0.036128    0.484684  0.297564  1.000000   \n",
       "power        0.048600  0.862376  0.051510   -0.264016  0.043130 -0.337035   \n",
       "brand        0.974958  0.074757  0.091036   -0.104825 -0.001168 -0.084390   \n",
       "\n",
       "               power     brand  \n",
       "bike_name   0.048600  0.974958  \n",
       "price       0.862376  0.074757  \n",
       "city        0.051510  0.091036  \n",
       "kms_driven -0.264016 -0.104825  \n",
       "owner       0.043130 -0.001168  \n",
       "age        -0.337035 -0.084390  \n",
       "power       1.000000  0.125509  \n",
       "brand       0.125509  1.000000  "
      ]
     },
     "execution_count": 24,
     "metadata": {},
     "output_type": "execute_result"
    }
   ],
   "source": [
    "data.corr()"
   ]
  },
  {
   "cell_type": "code",
   "execution_count": 268,
   "id": "43ceb767",
   "metadata": {},
   "outputs": [],
   "source": [
    "X= data[[\"bike_name\",\"city\",\"power\",\"brand\",\"age\"]]\n",
    "y= data[\"price\"]\n",
    "\n",
    "from sklearn.model_selection import train_test_split\n",
    "\n",
    "X_train,X_test,y_train,y_test = train_test_split(X,y,train_size=0.75,random_state=8976,shuffle=False)\n",
    "\n",
    "from sklearn.linear_model import LinearRegression\n",
    "LR = LinearRegression()\n",
    "\n",
    "\n"
   ]
  },
  {
   "cell_type": "code",
   "execution_count": 265,
   "id": "da7b160a",
   "metadata": {},
   "outputs": [
    {
     "data": {
      "text/plain": [
       "Ridge(alpha=10)"
      ]
     },
     "execution_count": 265,
     "metadata": {},
     "output_type": "execute_result"
    }
   ],
   "source": [
    "from sklearn.linear_model import Ridge, RidgeCV, Lasso,ElasticNet\n",
    "ridgeReg = Ridge(alpha=10)\n",
    "\n",
    "ridgeReg.fit(X_train,y_train)"
   ]
  },
  {
   "cell_type": "code",
   "execution_count": null,
   "id": "3856b069",
   "metadata": {},
   "outputs": [],
   "source": []
  },
  {
   "cell_type": "code",
   "execution_count": null,
   "id": "1e53c4a2",
   "metadata": {},
   "outputs": [],
   "source": []
  },
  {
   "cell_type": "code",
   "execution_count": null,
   "id": "5269a2c1",
   "metadata": {},
   "outputs": [],
   "source": []
  },
  {
   "cell_type": "code",
   "execution_count": null,
   "id": "4b7264ff",
   "metadata": {},
   "outputs": [],
   "source": []
  },
  {
   "cell_type": "code",
   "execution_count": 260,
   "id": "e03f5471",
   "metadata": {},
   "outputs": [],
   "source": [
    "X_train = pd.DataFrame(X_train)\n",
    "X_test = pd.DataFrame(X_test)\n"
   ]
  },
  {
   "cell_type": "code",
   "execution_count": 261,
   "id": "b65bede1",
   "metadata": {},
   "outputs": [],
   "source": [
    "y_train = pd.DataFrame(y_train)\n",
    "y_test = pd.DataFrame(y_test)"
   ]
  },
  {
   "cell_type": "code",
   "execution_count": 257,
   "id": "124b5705",
   "metadata": {},
   "outputs": [],
   "source": [
    "ridgeReg.fit(X_train,y_train)\n",
    "pred = ridgeReg.predict(X_test)"
   ]
  },
  {
   "cell_type": "code",
   "execution_count": 258,
   "id": "f15c81da",
   "metadata": {},
   "outputs": [
    {
     "data": {
      "text/plain": [
       "0.9181202565102917"
      ]
     },
     "execution_count": 258,
     "metadata": {},
     "output_type": "execute_result"
    }
   ],
   "source": [
    "r2_score(pred,y_test)"
   ]
  },
  {
   "cell_type": "code",
   "execution_count": 232,
   "id": "c392d5e8",
   "metadata": {},
   "outputs": [
    {
     "data": {
      "text/plain": [
       "LinearRegression()"
      ]
     },
     "execution_count": 232,
     "metadata": {},
     "output_type": "execute_result"
    }
   ],
   "source": [
    "LR.fit(X_train,y_train)"
   ]
  },
  {
   "cell_type": "code",
   "execution_count": 233,
   "id": "a0275283",
   "metadata": {},
   "outputs": [],
   "source": [
    "pred = LR.predict(X_test)"
   ]
  },
  {
   "cell_type": "code",
   "execution_count": 234,
   "id": "571a1fd7",
   "metadata": {},
   "outputs": [],
   "source": [
    "from sklearn.metrics import r2_score"
   ]
  },
  {
   "cell_type": "code",
   "execution_count": 235,
   "id": "ba7c1de8",
   "metadata": {},
   "outputs": [
    {
     "data": {
      "text/plain": [
       "0.9261635574782229"
      ]
     },
     "execution_count": 235,
     "metadata": {},
     "output_type": "execute_result"
    }
   ],
   "source": [
    "r2_score(pred,y_test)"
   ]
  },
  {
   "cell_type": "code",
   "execution_count": 262,
   "id": "58a93642",
   "metadata": {},
   "outputs": [
    {
     "data": {
      "text/plain": [
       "Lasso(alpha=10)"
      ]
     },
     "execution_count": 262,
     "metadata": {},
     "output_type": "execute_result"
    }
   ],
   "source": [
    "lasso = Lasso(alpha=10)\n",
    "\n",
    "lasso.fit(X_train,y_train)\n",
    "\n"
   ]
  },
  {
   "cell_type": "code",
   "execution_count": 263,
   "id": "cf8250fc",
   "metadata": {},
   "outputs": [],
   "source": [
    "pred = lasso.predict(X_test)\n"
   ]
  },
  {
   "cell_type": "code",
   "execution_count": 270,
   "id": "d4c49815",
   "metadata": {},
   "outputs": [
    {
     "data": {
      "text/plain": [
       "ElasticNet(alpha=10)"
      ]
     },
     "execution_count": 270,
     "metadata": {},
     "output_type": "execute_result"
    }
   ],
   "source": [
    "EN = ElasticNet(alpha=10)\n",
    "\n",
    "EN.fit(X_train,y_train)\n"
   ]
  },
  {
   "cell_type": "code",
   "execution_count": 271,
   "id": "677aa271",
   "metadata": {},
   "outputs": [],
   "source": [
    "pred = EN.predict(X_test)"
   ]
  },
  {
   "cell_type": "code",
   "execution_count": 272,
   "id": "7ca21eae",
   "metadata": {},
   "outputs": [
    {
     "data": {
      "text/plain": [
       "0.0"
      ]
     },
     "execution_count": 272,
     "metadata": {},
     "output_type": "execute_result"
    }
   ],
   "source": [
    "r2_score(pred,y_test)"
   ]
  },
  {
   "cell_type": "code",
   "execution_count": null,
   "id": "477fab7b",
   "metadata": {},
   "outputs": [],
   "source": []
  },
  {
   "cell_type": "code",
   "execution_count": null,
   "id": "8b86ec66",
   "metadata": {},
   "outputs": [],
   "source": []
  },
  {
   "cell_type": "code",
   "execution_count": 83,
   "id": "f0bb5c1a",
   "metadata": {},
   "outputs": [
    {
     "data": {
      "text/plain": [
       "(32648, 8)"
      ]
     },
     "execution_count": 83,
     "metadata": {},
     "output_type": "execute_result"
    }
   ],
   "source": [
    "data.shape"
   ]
  },
  {
   "cell_type": "code",
   "execution_count": 264,
   "id": "63cf0e42",
   "metadata": {},
   "outputs": [
    {
     "data": {
      "text/plain": [
       "0.0"
      ]
     },
     "execution_count": 264,
     "metadata": {},
     "output_type": "execute_result"
    }
   ],
   "source": [
    "r2_score(pred,y_test)"
   ]
  },
  {
   "cell_type": "code",
   "execution_count": 84,
   "id": "43aa5482",
   "metadata": {},
   "outputs": [
    {
     "data": {
      "text/plain": [
       "bike_name     0\n",
       "price         0\n",
       "city          0\n",
       "kms_driven    0\n",
       "owner         0\n",
       "age           0\n",
       "power         0\n",
       "brand         0\n",
       "dtype: int64"
      ]
     },
     "execution_count": 84,
     "metadata": {},
     "output_type": "execute_result"
    }
   ],
   "source": [
    "data.isna().sum()"
   ]
  },
  {
   "cell_type": "code",
   "execution_count": 85,
   "id": "15bc18ab",
   "metadata": {},
   "outputs": [
    {
     "data": {
      "text/html": [
       "<div>\n",
       "<style scoped>\n",
       "    .dataframe tbody tr th:only-of-type {\n",
       "        vertical-align: middle;\n",
       "    }\n",
       "\n",
       "    .dataframe tbody tr th {\n",
       "        vertical-align: top;\n",
       "    }\n",
       "\n",
       "    .dataframe thead th {\n",
       "        text-align: right;\n",
       "    }\n",
       "</style>\n",
       "<table border=\"1\" class=\"dataframe\">\n",
       "  <thead>\n",
       "    <tr style=\"text-align: right;\">\n",
       "      <th></th>\n",
       "      <th>price</th>\n",
       "      <th>kms_driven</th>\n",
       "      <th>age</th>\n",
       "      <th>power</th>\n",
       "    </tr>\n",
       "  </thead>\n",
       "  <tbody>\n",
       "    <tr>\n",
       "      <th>count</th>\n",
       "      <td>3.264800e+04</td>\n",
       "      <td>32648.000000</td>\n",
       "      <td>32648.000000</td>\n",
       "      <td>32648.000000</td>\n",
       "    </tr>\n",
       "    <tr>\n",
       "      <th>mean</th>\n",
       "      <td>6.829542e+04</td>\n",
       "      <td>26344.625184</td>\n",
       "      <td>8.048211</td>\n",
       "      <td>213.511302</td>\n",
       "    </tr>\n",
       "    <tr>\n",
       "      <th>std</th>\n",
       "      <td>9.071860e+04</td>\n",
       "      <td>22208.527695</td>\n",
       "      <td>4.031700</td>\n",
       "      <td>134.428868</td>\n",
       "    </tr>\n",
       "    <tr>\n",
       "      <th>min</th>\n",
       "      <td>4.400000e+03</td>\n",
       "      <td>1.000000</td>\n",
       "      <td>1.000000</td>\n",
       "      <td>100.000000</td>\n",
       "    </tr>\n",
       "    <tr>\n",
       "      <th>25%</th>\n",
       "      <td>2.500000e+04</td>\n",
       "      <td>12000.000000</td>\n",
       "      <td>5.000000</td>\n",
       "      <td>150.000000</td>\n",
       "    </tr>\n",
       "    <tr>\n",
       "      <th>50%</th>\n",
       "      <td>4.300000e+04</td>\n",
       "      <td>20373.000000</td>\n",
       "      <td>7.000000</td>\n",
       "      <td>150.000000</td>\n",
       "    </tr>\n",
       "    <tr>\n",
       "      <th>75%</th>\n",
       "      <td>8.000000e+04</td>\n",
       "      <td>35000.000000</td>\n",
       "      <td>10.000000</td>\n",
       "      <td>220.000000</td>\n",
       "    </tr>\n",
       "    <tr>\n",
       "      <th>max</th>\n",
       "      <td>1.900000e+06</td>\n",
       "      <td>750000.000000</td>\n",
       "      <td>63.000000</td>\n",
       "      <td>1800.000000</td>\n",
       "    </tr>\n",
       "  </tbody>\n",
       "</table>\n",
       "</div>"
      ],
      "text/plain": [
       "              price     kms_driven           age         power\n",
       "count  3.264800e+04   32648.000000  32648.000000  32648.000000\n",
       "mean   6.829542e+04   26344.625184      8.048211    213.511302\n",
       "std    9.071860e+04   22208.527695      4.031700    134.428868\n",
       "min    4.400000e+03       1.000000      1.000000    100.000000\n",
       "25%    2.500000e+04   12000.000000      5.000000    150.000000\n",
       "50%    4.300000e+04   20373.000000      7.000000    150.000000\n",
       "75%    8.000000e+04   35000.000000     10.000000    220.000000\n",
       "max    1.900000e+06  750000.000000     63.000000   1800.000000"
      ]
     },
     "execution_count": 85,
     "metadata": {},
     "output_type": "execute_result"
    }
   ],
   "source": [
    "data.describe()"
   ]
  },
  {
   "cell_type": "code",
   "execution_count": 86,
   "id": "0f8a054d",
   "metadata": {},
   "outputs": [
    {
     "name": "stdout",
     "output_type": "stream",
     "text": [
      "<class 'pandas.core.frame.DataFrame'>\n",
      "RangeIndex: 32648 entries, 0 to 32647\n",
      "Data columns (total 8 columns):\n",
      " #   Column      Non-Null Count  Dtype  \n",
      "---  ------      --------------  -----  \n",
      " 0   bike_name   32648 non-null  object \n",
      " 1   price       32648 non-null  float64\n",
      " 2   city        32648 non-null  object \n",
      " 3   kms_driven  32648 non-null  float64\n",
      " 4   owner       32648 non-null  object \n",
      " 5   age         32648 non-null  float64\n",
      " 6   power       32648 non-null  float64\n",
      " 7   brand       32648 non-null  object \n",
      "dtypes: float64(4), object(4)\n",
      "memory usage: 2.0+ MB\n"
     ]
    }
   ],
   "source": [
    "data.info()"
   ]
  },
  {
   "cell_type": "code",
   "execution_count": 87,
   "id": "d44139c1",
   "metadata": {},
   "outputs": [
    {
     "data": {
      "text/plain": [
       "Bajaj              11213\n",
       "Hero                6368\n",
       "Royal Enfield       4178\n",
       "Yamaha              3916\n",
       "Honda               2108\n",
       "Suzuki              1464\n",
       "TVS                 1247\n",
       "KTM                 1077\n",
       "Harley-Davidson      737\n",
       "Kawasaki              79\n",
       "Hyosung               64\n",
       "Benelli               56\n",
       "Mahindra              55\n",
       "Triumph               26\n",
       "Ducati                22\n",
       "BMW                   16\n",
       "Jawa                  10\n",
       "MV                     4\n",
       "Indian                 3\n",
       "Ideal                  2\n",
       "Rajdoot                1\n",
       "LML                    1\n",
       "Yezdi                  1\n",
       "Name: brand, dtype: int64"
      ]
     },
     "execution_count": 87,
     "metadata": {},
     "output_type": "execute_result"
    }
   ],
   "source": [
    "data['brand'].value_counts()"
   ]
  },
  {
   "cell_type": "code",
   "execution_count": 88,
   "id": "c182f199",
   "metadata": {},
   "outputs": [
    {
     "data": {
      "text/plain": [
       "bike_name                 price    city       kms_driven  owner        age   power  brand \n",
       "Hero CD Deluxe 100cc      18000.0  Chennai    22824.0     First Owner  8.0   100.0  Hero      620\n",
       "Hero CBZ Xtreme 150cc     11900.0  Noida      34968.0     First Owner  14.0  150.0  Hero      620\n",
       "Yamaha YZF-R15 2.0 150cc  55000.0  Rupnagar   27000.0     First Owner  9.0   150.0  Yamaha    620\n",
       "Yamaha Fazer 150cc        25000.0  Delhi      65000.0     First Owner  12.0  150.0  Yamaha    620\n",
       "Honda CB Trigger 150cc    43000.0  Bangalore  42837.0     First Owner  8.0   150.0  Honda     620\n",
       "                                                                                             ... \n",
       "Hero Passion Pro 100cc    18600.0  Delhi      49660.0     First Owner  12.0  100.0  Hero        1\n",
       "                          18000.0  Chennai    253621.0    First Owner  11.0  100.0  Hero        1\n",
       "                          17500.0  Faridabad  38554.0     First Owner  10.0  100.0  Hero        1\n",
       "                          17000.0  Pune       59000.0     First Owner  15.0  100.0  Hero        1\n",
       "Yezdi Classic 250cc       68000.0  Ahmedabad  23.0        Third Owner  39.0  250.0  Yezdi       1\n",
       "Length: 7324, dtype: int64"
      ]
     },
     "execution_count": 88,
     "metadata": {},
     "output_type": "execute_result"
    }
   ],
   "source": [
    "data.value_counts()"
   ]
  },
  {
   "cell_type": "code",
   "execution_count": 89,
   "id": "825237c3",
   "metadata": {},
   "outputs": [
    {
     "data": {
      "text/plain": [
       "count    3.264800e+04\n",
       "mean     6.829542e+04\n",
       "std      9.071860e+04\n",
       "min      4.400000e+03\n",
       "25%      2.500000e+04\n",
       "50%      4.300000e+04\n",
       "75%      8.000000e+04\n",
       "max      1.900000e+06\n",
       "Name: price, dtype: float64"
      ]
     },
     "execution_count": 89,
     "metadata": {},
     "output_type": "execute_result"
    }
   ],
   "source": [
    "data['price'].describe()"
   ]
  },
  {
   "cell_type": "code",
   "execution_count": 90,
   "id": "48820d68",
   "metadata": {},
   "outputs": [
    {
     "data": {
      "text/html": [
       "<div>\n",
       "<style scoped>\n",
       "    .dataframe tbody tr th:only-of-type {\n",
       "        vertical-align: middle;\n",
       "    }\n",
       "\n",
       "    .dataframe tbody tr th {\n",
       "        vertical-align: top;\n",
       "    }\n",
       "\n",
       "    .dataframe thead th {\n",
       "        text-align: right;\n",
       "    }\n",
       "</style>\n",
       "<table border=\"1\" class=\"dataframe\">\n",
       "  <thead>\n",
       "    <tr style=\"text-align: right;\">\n",
       "      <th></th>\n",
       "      <th>bike_name</th>\n",
       "      <th>price</th>\n",
       "      <th>kms_driven</th>\n",
       "      <th>owner</th>\n",
       "      <th>age</th>\n",
       "      <th>power</th>\n",
       "      <th>brand</th>\n",
       "    </tr>\n",
       "  </thead>\n",
       "  <tbody>\n",
       "    <tr>\n",
       "      <th>0</th>\n",
       "      <td>TVS Star City Plus Dual Tone 110cc</td>\n",
       "      <td>35000.0</td>\n",
       "      <td>17654.0</td>\n",
       "      <td>First Owner</td>\n",
       "      <td>3.0</td>\n",
       "      <td>110.0</td>\n",
       "      <td>TVS</td>\n",
       "    </tr>\n",
       "    <tr>\n",
       "      <th>1</th>\n",
       "      <td>Royal Enfield Classic 350cc</td>\n",
       "      <td>119900.0</td>\n",
       "      <td>11000.0</td>\n",
       "      <td>First Owner</td>\n",
       "      <td>4.0</td>\n",
       "      <td>350.0</td>\n",
       "      <td>Royal Enfield</td>\n",
       "    </tr>\n",
       "    <tr>\n",
       "      <th>2</th>\n",
       "      <td>Triumph Daytona 675R</td>\n",
       "      <td>600000.0</td>\n",
       "      <td>110.0</td>\n",
       "      <td>First Owner</td>\n",
       "      <td>8.0</td>\n",
       "      <td>675.0</td>\n",
       "      <td>Triumph</td>\n",
       "    </tr>\n",
       "    <tr>\n",
       "      <th>3</th>\n",
       "      <td>TVS Apache RTR 180cc</td>\n",
       "      <td>65000.0</td>\n",
       "      <td>16329.0</td>\n",
       "      <td>First Owner</td>\n",
       "      <td>4.0</td>\n",
       "      <td>180.0</td>\n",
       "      <td>TVS</td>\n",
       "    </tr>\n",
       "    <tr>\n",
       "      <th>4</th>\n",
       "      <td>Yamaha FZ S V 2.0 150cc-Ltd. Edition</td>\n",
       "      <td>80000.0</td>\n",
       "      <td>10000.0</td>\n",
       "      <td>First Owner</td>\n",
       "      <td>3.0</td>\n",
       "      <td>150.0</td>\n",
       "      <td>Yamaha</td>\n",
       "    </tr>\n",
       "  </tbody>\n",
       "</table>\n",
       "</div>"
      ],
      "text/plain": [
       "                              bike_name     price  kms_driven        owner  \\\n",
       "0    TVS Star City Plus Dual Tone 110cc   35000.0     17654.0  First Owner   \n",
       "1           Royal Enfield Classic 350cc  119900.0     11000.0  First Owner   \n",
       "2                  Triumph Daytona 675R  600000.0       110.0  First Owner   \n",
       "3                  TVS Apache RTR 180cc   65000.0     16329.0  First Owner   \n",
       "4  Yamaha FZ S V 2.0 150cc-Ltd. Edition   80000.0     10000.0  First Owner   \n",
       "\n",
       "   age  power          brand  \n",
       "0  3.0  110.0            TVS  \n",
       "1  4.0  350.0  Royal Enfield  \n",
       "2  8.0  675.0        Triumph  \n",
       "3  4.0  180.0            TVS  \n",
       "4  3.0  150.0         Yamaha  "
      ]
     },
     "execution_count": 90,
     "metadata": {},
     "output_type": "execute_result"
    }
   ],
   "source": [
    "data.drop(columns=['city'],inplace=True)\n",
    "data.head()"
   ]
  },
  {
   "cell_type": "code",
   "execution_count": 91,
   "id": "272192b6",
   "metadata": {},
   "outputs": [
    {
     "data": {
      "text/plain": [
       "array(['First Owner', 'Second Owner', 'Third Owner',\n",
       "       'Fourth Owner Or More'], dtype=object)"
      ]
     },
     "execution_count": 91,
     "metadata": {},
     "output_type": "execute_result"
    }
   ],
   "source": [
    "data['owner'].unique()"
   ]
  },
  {
   "cell_type": "code",
   "execution_count": 92,
   "id": "8de18128",
   "metadata": {},
   "outputs": [
    {
     "data": {
      "text/html": [
       "<div>\n",
       "<style scoped>\n",
       "    .dataframe tbody tr th:only-of-type {\n",
       "        vertical-align: middle;\n",
       "    }\n",
       "\n",
       "    .dataframe tbody tr th {\n",
       "        vertical-align: top;\n",
       "    }\n",
       "\n",
       "    .dataframe thead th {\n",
       "        text-align: right;\n",
       "    }\n",
       "</style>\n",
       "<table border=\"1\" class=\"dataframe\">\n",
       "  <thead>\n",
       "    <tr style=\"text-align: right;\">\n",
       "      <th></th>\n",
       "      <th>bike_name</th>\n",
       "      <th>price</th>\n",
       "      <th>kms_driven</th>\n",
       "      <th>owner</th>\n",
       "      <th>age</th>\n",
       "      <th>power</th>\n",
       "      <th>brand</th>\n",
       "    </tr>\n",
       "  </thead>\n",
       "  <tbody>\n",
       "    <tr>\n",
       "      <th>0</th>\n",
       "      <td>TVS Star City Plus Dual Tone 110cc</td>\n",
       "      <td>35000.0</td>\n",
       "      <td>17654.0</td>\n",
       "      <td>First Owner</td>\n",
       "      <td>3.0</td>\n",
       "      <td>110.0</td>\n",
       "      <td>TVS</td>\n",
       "    </tr>\n",
       "    <tr>\n",
       "      <th>1</th>\n",
       "      <td>Royal Enfield Classic 350cc</td>\n",
       "      <td>119900.0</td>\n",
       "      <td>11000.0</td>\n",
       "      <td>First Owner</td>\n",
       "      <td>4.0</td>\n",
       "      <td>350.0</td>\n",
       "      <td>Royal Enfield</td>\n",
       "    </tr>\n",
       "    <tr>\n",
       "      <th>2</th>\n",
       "      <td>Triumph Daytona 675R</td>\n",
       "      <td>600000.0</td>\n",
       "      <td>110.0</td>\n",
       "      <td>First Owner</td>\n",
       "      <td>8.0</td>\n",
       "      <td>675.0</td>\n",
       "      <td>Triumph</td>\n",
       "    </tr>\n",
       "    <tr>\n",
       "      <th>3</th>\n",
       "      <td>TVS Apache RTR 180cc</td>\n",
       "      <td>65000.0</td>\n",
       "      <td>16329.0</td>\n",
       "      <td>First Owner</td>\n",
       "      <td>4.0</td>\n",
       "      <td>180.0</td>\n",
       "      <td>TVS</td>\n",
       "    </tr>\n",
       "    <tr>\n",
       "      <th>4</th>\n",
       "      <td>Yamaha FZ S V 2.0 150cc-Ltd. Edition</td>\n",
       "      <td>80000.0</td>\n",
       "      <td>10000.0</td>\n",
       "      <td>First Owner</td>\n",
       "      <td>3.0</td>\n",
       "      <td>150.0</td>\n",
       "      <td>Yamaha</td>\n",
       "    </tr>\n",
       "  </tbody>\n",
       "</table>\n",
       "</div>"
      ],
      "text/plain": [
       "                              bike_name     price  kms_driven        owner  \\\n",
       "0    TVS Star City Plus Dual Tone 110cc   35000.0     17654.0  First Owner   \n",
       "1           Royal Enfield Classic 350cc  119900.0     11000.0  First Owner   \n",
       "2                  Triumph Daytona 675R  600000.0       110.0  First Owner   \n",
       "3                  TVS Apache RTR 180cc   65000.0     16329.0  First Owner   \n",
       "4  Yamaha FZ S V 2.0 150cc-Ltd. Edition   80000.0     10000.0  First Owner   \n",
       "\n",
       "   age  power          brand  \n",
       "0  3.0  110.0            TVS  \n",
       "1  4.0  350.0  Royal Enfield  \n",
       "2  8.0  675.0        Triumph  \n",
       "3  4.0  180.0            TVS  \n",
       "4  3.0  150.0         Yamaha  "
      ]
     },
     "execution_count": 92,
     "metadata": {},
     "output_type": "execute_result"
    }
   ],
   "source": [
    "data['owner'].unique()\n",
    "data.head()"
   ]
  },
  {
   "cell_type": "code",
   "execution_count": 114,
   "id": "78a2c481",
   "metadata": {},
   "outputs": [
    {
     "data": {
      "text/html": [
       "<div>\n",
       "<style scoped>\n",
       "    .dataframe tbody tr th:only-of-type {\n",
       "        vertical-align: middle;\n",
       "    }\n",
       "\n",
       "    .dataframe tbody tr th {\n",
       "        vertical-align: top;\n",
       "    }\n",
       "\n",
       "    .dataframe thead th {\n",
       "        text-align: right;\n",
       "    }\n",
       "</style>\n",
       "<table border=\"1\" class=\"dataframe\">\n",
       "  <thead>\n",
       "    <tr style=\"text-align: right;\">\n",
       "      <th></th>\n",
       "      <th>bike_name</th>\n",
       "      <th>price</th>\n",
       "      <th>kms_driven</th>\n",
       "      <th>owner</th>\n",
       "      <th>age</th>\n",
       "      <th>power</th>\n",
       "      <th>brand</th>\n",
       "    </tr>\n",
       "  </thead>\n",
       "  <tbody>\n",
       "    <tr>\n",
       "      <th>0</th>\n",
       "      <td>TVS Star City Plus Dual Tone 110cc</td>\n",
       "      <td>35000.0</td>\n",
       "      <td>17654.0</td>\n",
       "      <td>1</td>\n",
       "      <td>3.0</td>\n",
       "      <td>110.0</td>\n",
       "      <td>TVS</td>\n",
       "    </tr>\n",
       "    <tr>\n",
       "      <th>1</th>\n",
       "      <td>Royal Enfield Classic 350cc</td>\n",
       "      <td>119900.0</td>\n",
       "      <td>11000.0</td>\n",
       "      <td>1</td>\n",
       "      <td>4.0</td>\n",
       "      <td>350.0</td>\n",
       "      <td>Royal Enfield</td>\n",
       "    </tr>\n",
       "    <tr>\n",
       "      <th>2</th>\n",
       "      <td>Triumph Daytona 675R</td>\n",
       "      <td>600000.0</td>\n",
       "      <td>110.0</td>\n",
       "      <td>1</td>\n",
       "      <td>8.0</td>\n",
       "      <td>675.0</td>\n",
       "      <td>Triumph</td>\n",
       "    </tr>\n",
       "    <tr>\n",
       "      <th>3</th>\n",
       "      <td>TVS Apache RTR 180cc</td>\n",
       "      <td>65000.0</td>\n",
       "      <td>16329.0</td>\n",
       "      <td>1</td>\n",
       "      <td>4.0</td>\n",
       "      <td>180.0</td>\n",
       "      <td>TVS</td>\n",
       "    </tr>\n",
       "    <tr>\n",
       "      <th>4</th>\n",
       "      <td>Yamaha FZ S V 2.0 150cc-Ltd. Edition</td>\n",
       "      <td>80000.0</td>\n",
       "      <td>10000.0</td>\n",
       "      <td>1</td>\n",
       "      <td>3.0</td>\n",
       "      <td>150.0</td>\n",
       "      <td>Yamaha</td>\n",
       "    </tr>\n",
       "  </tbody>\n",
       "</table>\n",
       "</div>"
      ],
      "text/plain": [
       "                              bike_name     price  kms_driven  owner  age  \\\n",
       "0    TVS Star City Plus Dual Tone 110cc   35000.0     17654.0      1  3.0   \n",
       "1           Royal Enfield Classic 350cc  119900.0     11000.0      1  4.0   \n",
       "2                  Triumph Daytona 675R  600000.0       110.0      1  8.0   \n",
       "3                  TVS Apache RTR 180cc   65000.0     16329.0      1  4.0   \n",
       "4  Yamaha FZ S V 2.0 150cc-Ltd. Edition   80000.0     10000.0      1  3.0   \n",
       "\n",
       "   power          brand  \n",
       "0  110.0            TVS  \n",
       "1  350.0  Royal Enfield  \n",
       "2  675.0        Triumph  \n",
       "3  180.0            TVS  \n",
       "4  150.0         Yamaha  "
      ]
     },
     "execution_count": 114,
     "metadata": {},
     "output_type": "execute_result"
    }
   ],
   "source": [
    "data.replace({'owner':{'First Owner':1,'Second Owner':2,'Third Owner':3,'Fourth Owner Or More':4}},inplace=True)\n",
    "data.head()"
   ]
  },
  {
   "cell_type": "code",
   "execution_count": 115,
   "id": "9560449b",
   "metadata": {},
   "outputs": [
    {
     "data": {
      "text/plain": [
       "array([1, 2, 3, 4], dtype=int64)"
      ]
     },
     "execution_count": 115,
     "metadata": {},
     "output_type": "execute_result"
    }
   ],
   "source": [
    "data['owner'].unique()"
   ]
  },
  {
   "cell_type": "markdown",
   "id": "82e05daf",
   "metadata": {},
   "source": [
    "# Preprocessing"
   ]
  },
  {
   "cell_type": "code",
   "execution_count": 57,
   "id": "45db06b8",
   "metadata": {},
   "outputs": [],
   "source": [
    "from sklearn.preprocessing import LabelEncoder,OrdinalEncoder,OneHotEncoder\n",
    "from sklearn.model_selection import train_test_split"
   ]
  },
  {
   "cell_type": "code",
   "execution_count": 117,
   "id": "d326728c",
   "metadata": {},
   "outputs": [
    {
     "data": {
      "text/html": [
       "<div>\n",
       "<style scoped>\n",
       "    .dataframe tbody tr th:only-of-type {\n",
       "        vertical-align: middle;\n",
       "    }\n",
       "\n",
       "    .dataframe tbody tr th {\n",
       "        vertical-align: top;\n",
       "    }\n",
       "\n",
       "    .dataframe thead th {\n",
       "        text-align: right;\n",
       "    }\n",
       "</style>\n",
       "<table border=\"1\" class=\"dataframe\">\n",
       "  <thead>\n",
       "    <tr style=\"text-align: right;\">\n",
       "      <th></th>\n",
       "      <th>price</th>\n",
       "      <th>kms_driven</th>\n",
       "      <th>owner</th>\n",
       "      <th>age</th>\n",
       "      <th>power</th>\n",
       "    </tr>\n",
       "  </thead>\n",
       "  <tbody>\n",
       "    <tr>\n",
       "      <th>count</th>\n",
       "      <td>3.264800e+04</td>\n",
       "      <td>32648.000000</td>\n",
       "      <td>32648.000000</td>\n",
       "      <td>32648.000000</td>\n",
       "      <td>32648.000000</td>\n",
       "    </tr>\n",
       "    <tr>\n",
       "      <th>mean</th>\n",
       "      <td>6.829542e+04</td>\n",
       "      <td>26344.625184</td>\n",
       "      <td>1.086253</td>\n",
       "      <td>8.048211</td>\n",
       "      <td>213.511302</td>\n",
       "    </tr>\n",
       "    <tr>\n",
       "      <th>std</th>\n",
       "      <td>9.071860e+04</td>\n",
       "      <td>22208.527695</td>\n",
       "      <td>0.296037</td>\n",
       "      <td>4.031700</td>\n",
       "      <td>134.428868</td>\n",
       "    </tr>\n",
       "    <tr>\n",
       "      <th>min</th>\n",
       "      <td>4.400000e+03</td>\n",
       "      <td>1.000000</td>\n",
       "      <td>1.000000</td>\n",
       "      <td>1.000000</td>\n",
       "      <td>100.000000</td>\n",
       "    </tr>\n",
       "    <tr>\n",
       "      <th>25%</th>\n",
       "      <td>2.500000e+04</td>\n",
       "      <td>12000.000000</td>\n",
       "      <td>1.000000</td>\n",
       "      <td>5.000000</td>\n",
       "      <td>150.000000</td>\n",
       "    </tr>\n",
       "    <tr>\n",
       "      <th>50%</th>\n",
       "      <td>4.300000e+04</td>\n",
       "      <td>20373.000000</td>\n",
       "      <td>1.000000</td>\n",
       "      <td>7.000000</td>\n",
       "      <td>150.000000</td>\n",
       "    </tr>\n",
       "    <tr>\n",
       "      <th>75%</th>\n",
       "      <td>8.000000e+04</td>\n",
       "      <td>35000.000000</td>\n",
       "      <td>1.000000</td>\n",
       "      <td>10.000000</td>\n",
       "      <td>220.000000</td>\n",
       "    </tr>\n",
       "    <tr>\n",
       "      <th>max</th>\n",
       "      <td>1.900000e+06</td>\n",
       "      <td>750000.000000</td>\n",
       "      <td>4.000000</td>\n",
       "      <td>63.000000</td>\n",
       "      <td>1800.000000</td>\n",
       "    </tr>\n",
       "  </tbody>\n",
       "</table>\n",
       "</div>"
      ],
      "text/plain": [
       "              price     kms_driven         owner           age         power\n",
       "count  3.264800e+04   32648.000000  32648.000000  32648.000000  32648.000000\n",
       "mean   6.829542e+04   26344.625184      1.086253      8.048211    213.511302\n",
       "std    9.071860e+04   22208.527695      0.296037      4.031700    134.428868\n",
       "min    4.400000e+03       1.000000      1.000000      1.000000    100.000000\n",
       "25%    2.500000e+04   12000.000000      1.000000      5.000000    150.000000\n",
       "50%    4.300000e+04   20373.000000      1.000000      7.000000    150.000000\n",
       "75%    8.000000e+04   35000.000000      1.000000     10.000000    220.000000\n",
       "max    1.900000e+06  750000.000000      4.000000     63.000000   1800.000000"
      ]
     },
     "execution_count": 117,
     "metadata": {},
     "output_type": "execute_result"
    }
   ],
   "source": []
  },
  {
   "cell_type": "code",
   "execution_count": 118,
   "id": "0cec5ffe",
   "metadata": {},
   "outputs": [
    {
     "data": {
      "text/plain": [
       "0         35000.0\n",
       "1        119900.0\n",
       "2        600000.0\n",
       "3         65000.0\n",
       "4         80000.0\n",
       "           ...   \n",
       "32643     39000.0\n",
       "32644     30000.0\n",
       "32645     60000.0\n",
       "32646     15600.0\n",
       "32647     22000.0\n",
       "Name: price, Length: 32648, dtype: float64"
      ]
     },
     "execution_count": 118,
     "metadata": {},
     "output_type": "execute_result"
    }
   ],
   "source": [
    "y=data['price']\n",
    "y"
   ]
  },
  {
   "cell_type": "code",
   "execution_count": 119,
   "id": "81e4c30f",
   "metadata": {},
   "outputs": [],
   "source": [
    "X=data.drop(columns='price')"
   ]
  },
  {
   "cell_type": "code",
   "execution_count": 120,
   "id": "b30d69fc",
   "metadata": {},
   "outputs": [
    {
     "data": {
      "text/html": [
       "<div>\n",
       "<style scoped>\n",
       "    .dataframe tbody tr th:only-of-type {\n",
       "        vertical-align: middle;\n",
       "    }\n",
       "\n",
       "    .dataframe tbody tr th {\n",
       "        vertical-align: top;\n",
       "    }\n",
       "\n",
       "    .dataframe thead th {\n",
       "        text-align: right;\n",
       "    }\n",
       "</style>\n",
       "<table border=\"1\" class=\"dataframe\">\n",
       "  <thead>\n",
       "    <tr style=\"text-align: right;\">\n",
       "      <th></th>\n",
       "      <th>bike_name</th>\n",
       "      <th>kms_driven</th>\n",
       "      <th>owner</th>\n",
       "      <th>age</th>\n",
       "      <th>power</th>\n",
       "      <th>brand</th>\n",
       "    </tr>\n",
       "  </thead>\n",
       "  <tbody>\n",
       "    <tr>\n",
       "      <th>0</th>\n",
       "      <td>TVS Star City Plus Dual Tone 110cc</td>\n",
       "      <td>17654.0</td>\n",
       "      <td>1</td>\n",
       "      <td>3.0</td>\n",
       "      <td>110.0</td>\n",
       "      <td>TVS</td>\n",
       "    </tr>\n",
       "    <tr>\n",
       "      <th>1</th>\n",
       "      <td>Royal Enfield Classic 350cc</td>\n",
       "      <td>11000.0</td>\n",
       "      <td>1</td>\n",
       "      <td>4.0</td>\n",
       "      <td>350.0</td>\n",
       "      <td>Royal Enfield</td>\n",
       "    </tr>\n",
       "    <tr>\n",
       "      <th>2</th>\n",
       "      <td>Triumph Daytona 675R</td>\n",
       "      <td>110.0</td>\n",
       "      <td>1</td>\n",
       "      <td>8.0</td>\n",
       "      <td>675.0</td>\n",
       "      <td>Triumph</td>\n",
       "    </tr>\n",
       "    <tr>\n",
       "      <th>3</th>\n",
       "      <td>TVS Apache RTR 180cc</td>\n",
       "      <td>16329.0</td>\n",
       "      <td>1</td>\n",
       "      <td>4.0</td>\n",
       "      <td>180.0</td>\n",
       "      <td>TVS</td>\n",
       "    </tr>\n",
       "    <tr>\n",
       "      <th>4</th>\n",
       "      <td>Yamaha FZ S V 2.0 150cc-Ltd. Edition</td>\n",
       "      <td>10000.0</td>\n",
       "      <td>1</td>\n",
       "      <td>3.0</td>\n",
       "      <td>150.0</td>\n",
       "      <td>Yamaha</td>\n",
       "    </tr>\n",
       "    <tr>\n",
       "      <th>...</th>\n",
       "      <td>...</td>\n",
       "      <td>...</td>\n",
       "      <td>...</td>\n",
       "      <td>...</td>\n",
       "      <td>...</td>\n",
       "      <td>...</td>\n",
       "    </tr>\n",
       "    <tr>\n",
       "      <th>32643</th>\n",
       "      <td>Hero Passion Pro 100cc</td>\n",
       "      <td>22000.0</td>\n",
       "      <td>1</td>\n",
       "      <td>4.0</td>\n",
       "      <td>100.0</td>\n",
       "      <td>Hero</td>\n",
       "    </tr>\n",
       "    <tr>\n",
       "      <th>32644</th>\n",
       "      <td>TVS Apache RTR 180cc</td>\n",
       "      <td>6639.0</td>\n",
       "      <td>1</td>\n",
       "      <td>9.0</td>\n",
       "      <td>180.0</td>\n",
       "      <td>TVS</td>\n",
       "    </tr>\n",
       "    <tr>\n",
       "      <th>32645</th>\n",
       "      <td>Bajaj Avenger Street 220</td>\n",
       "      <td>20373.0</td>\n",
       "      <td>1</td>\n",
       "      <td>6.0</td>\n",
       "      <td>220.0</td>\n",
       "      <td>Bajaj</td>\n",
       "    </tr>\n",
       "    <tr>\n",
       "      <th>32646</th>\n",
       "      <td>Hero Super Splendor 125cc</td>\n",
       "      <td>84186.0</td>\n",
       "      <td>1</td>\n",
       "      <td>16.0</td>\n",
       "      <td>125.0</td>\n",
       "      <td>Hero</td>\n",
       "    </tr>\n",
       "    <tr>\n",
       "      <th>32647</th>\n",
       "      <td>Bajaj Pulsar 150cc</td>\n",
       "      <td>60857.0</td>\n",
       "      <td>1</td>\n",
       "      <td>13.0</td>\n",
       "      <td>150.0</td>\n",
       "      <td>Bajaj</td>\n",
       "    </tr>\n",
       "  </tbody>\n",
       "</table>\n",
       "<p>32648 rows × 6 columns</p>\n",
       "</div>"
      ],
      "text/plain": [
       "                                  bike_name  kms_driven  owner   age  power  \\\n",
       "0        TVS Star City Plus Dual Tone 110cc     17654.0      1   3.0  110.0   \n",
       "1               Royal Enfield Classic 350cc     11000.0      1   4.0  350.0   \n",
       "2                      Triumph Daytona 675R       110.0      1   8.0  675.0   \n",
       "3                      TVS Apache RTR 180cc     16329.0      1   4.0  180.0   \n",
       "4      Yamaha FZ S V 2.0 150cc-Ltd. Edition     10000.0      1   3.0  150.0   \n",
       "...                                     ...         ...    ...   ...    ...   \n",
       "32643                Hero Passion Pro 100cc     22000.0      1   4.0  100.0   \n",
       "32644                  TVS Apache RTR 180cc      6639.0      1   9.0  180.0   \n",
       "32645              Bajaj Avenger Street 220     20373.0      1   6.0  220.0   \n",
       "32646             Hero Super Splendor 125cc     84186.0      1  16.0  125.0   \n",
       "32647                    Bajaj Pulsar 150cc     60857.0      1  13.0  150.0   \n",
       "\n",
       "               brand  \n",
       "0                TVS  \n",
       "1      Royal Enfield  \n",
       "2            Triumph  \n",
       "3                TVS  \n",
       "4             Yamaha  \n",
       "...              ...  \n",
       "32643           Hero  \n",
       "32644            TVS  \n",
       "32645          Bajaj  \n",
       "32646           Hero  \n",
       "32647          Bajaj  \n",
       "\n",
       "[32648 rows x 6 columns]"
      ]
     },
     "execution_count": 120,
     "metadata": {},
     "output_type": "execute_result"
    }
   ],
   "source": [
    "X"
   ]
  },
  {
   "cell_type": "code",
   "execution_count": 121,
   "id": "cebc2cb2",
   "metadata": {},
   "outputs": [
    {
     "data": {
      "text/plain": [
       "OneHotEncoder()"
      ]
     },
     "execution_count": 121,
     "metadata": {},
     "output_type": "execute_result"
    }
   ],
   "source": [
    "ohe=OneHotEncoder()\n",
    "ohe.fit(X[['bike_name','brand']])"
   ]
  },
  {
   "cell_type": "code",
   "execution_count": 122,
   "id": "1e30b3bc",
   "metadata": {},
   "outputs": [],
   "source": [
    "from sklearn.linear_model import LinearRegression\n",
    "from sklearn.metrics import accuracy_score,precision_score,recall_score,r2_score\n"
   ]
  },
  {
   "cell_type": "code",
   "execution_count": 123,
   "id": "e1bd6236",
   "metadata": {},
   "outputs": [],
   "source": [
    "X_train,X_test,y_train,y_test= train_test_split(X,y,test_size=0.8,random_state=10)"
   ]
  },
  {
   "cell_type": "code",
   "execution_count": 124,
   "id": "7027e6b3",
   "metadata": {},
   "outputs": [],
   "source": [
    "column_trans= make_column_transformer((OneHotEncoder(categories=ohe.categories_),['bike_name','brand']),\n",
    "                                     remainder='passthrough')"
   ]
  },
  {
   "cell_type": "code",
   "execution_count": 125,
   "id": "5b11c97b",
   "metadata": {},
   "outputs": [],
   "source": [
    "lr= LinearRegression()"
   ]
  },
  {
   "cell_type": "code",
   "execution_count": 126,
   "id": "6e6c4602",
   "metadata": {},
   "outputs": [],
   "source": [
    "pipe=make_pipeline(column_trans,lr)"
   ]
  },
  {
   "cell_type": "code",
   "execution_count": 127,
   "id": "37b8e5ea",
   "metadata": {},
   "outputs": [
    {
     "data": {
      "text/plain": [
       "Pipeline(steps=[('columntransformer',\n",
       "                 ColumnTransformer(remainder='passthrough',\n",
       "                                   transformers=[('onehotencoder',\n",
       "                                                  OneHotEncoder(categories=[array(['BMW F750 GS 850cc', 'BMW G 310 GS', 'BMW G 310 R',\n",
       "       'BMW S 1000 RR Pro', 'BMW S 1000 XR Pro', 'Bajaj  Pulsar 180cc',\n",
       "       'Bajaj Avenger 150cc', 'Bajaj Avenger 180cc',\n",
       "       'Bajaj Avenger 200cc', 'Bajaj Avenger 220cc',\n",
       "       'Bajaj Avenger Cruise 220', 'Bajaj Avenge...\n",
       "       'Yamaha YZF-R3 320cc ABS', 'Yezdi Classic 250cc'], dtype=object),\n",
       "                                                                            array(['BMW', 'Bajaj', 'Benelli', 'Ducati', 'Harley-Davidson', 'Hero',\n",
       "       'Honda', 'Hyosung', 'Ideal', 'Indian', 'Jawa', 'KTM', 'Kawasaki',\n",
       "       'LML', 'MV', 'Mahindra', 'Rajdoot', 'Royal Enfield', 'Suzuki',\n",
       "       'TVS', 'Triumph', 'Yamaha', 'Yezdi'], dtype=object)]),\n",
       "                                                  ['bike_name', 'brand'])])),\n",
       "                ('linearregression', LinearRegression())])"
      ]
     },
     "execution_count": 127,
     "metadata": {},
     "output_type": "execute_result"
    }
   ],
   "source": [
    "pipe.fit(X_train,y_train)"
   ]
  },
  {
   "cell_type": "code",
   "execution_count": 136,
   "id": "a8c15cc2",
   "metadata": {},
   "outputs": [],
   "source": [
    "y_pred=pipe.predict(X_test)"
   ]
  },
  {
   "cell_type": "markdown",
   "id": "b164a978",
   "metadata": {},
   "source": [
    "# Checking r2 Score"
   ]
  },
  {
   "cell_type": "code",
   "execution_count": 137,
   "id": "00c2c108",
   "metadata": {},
   "outputs": [
    {
     "data": {
      "text/plain": [
       "0.9365484056018518"
      ]
     },
     "execution_count": 137,
     "metadata": {},
     "output_type": "execute_result"
    }
   ],
   "source": [
    "r2_score(y_test,y_pred)"
   ]
  },
  {
   "cell_type": "markdown",
   "id": "873ccfcf",
   "metadata": {},
   "source": [
    "# Dumping Pickle Model"
   ]
  },
  {
   "cell_type": "code",
   "execution_count": 138,
   "id": "94aa632d",
   "metadata": {},
   "outputs": [],
   "source": [
    "import pickle"
   ]
  },
  {
   "cell_type": "code",
   "execution_count": 140,
   "id": "c0e65f6a",
   "metadata": {},
   "outputs": [],
   "source": [
    "pickle.dump(pipe,open('bikepredictionmodel.pkl','wb'))"
   ]
  },
  {
   "cell_type": "code",
   "execution_count": 143,
   "id": "1a6e0a1f",
   "metadata": {},
   "outputs": [
    {
     "data": {
      "text/plain": [
       "array([31199.81598182])"
      ]
     },
     "execution_count": 143,
     "metadata": {},
     "output_type": "execute_result"
    }
   ],
   "source": [
    "pipe.predict(pd.DataFrame(columns=['bike_name','kms_driven','owner','age','power','brand'],data=np.array(['TVS Apache RTR 180cc',16450.0,2,9.0,180.0,'TVS']).reshape(1,6)))"
   ]
  },
  {
   "cell_type": "code",
   "execution_count": 144,
   "id": "40cdae99",
   "metadata": {},
   "outputs": [
    {
     "data": {
      "text/html": [
       "<div>\n",
       "<style scoped>\n",
       "    .dataframe tbody tr th:only-of-type {\n",
       "        vertical-align: middle;\n",
       "    }\n",
       "\n",
       "    .dataframe tbody tr th {\n",
       "        vertical-align: top;\n",
       "    }\n",
       "\n",
       "    .dataframe thead th {\n",
       "        text-align: right;\n",
       "    }\n",
       "</style>\n",
       "<table border=\"1\" class=\"dataframe\">\n",
       "  <thead>\n",
       "    <tr style=\"text-align: right;\">\n",
       "      <th></th>\n",
       "      <th>bike_name</th>\n",
       "      <th>price</th>\n",
       "      <th>kms_driven</th>\n",
       "      <th>owner</th>\n",
       "      <th>age</th>\n",
       "      <th>power</th>\n",
       "      <th>brand</th>\n",
       "    </tr>\n",
       "  </thead>\n",
       "  <tbody>\n",
       "    <tr>\n",
       "      <th>0</th>\n",
       "      <td>TVS Star City Plus Dual Tone 110cc</td>\n",
       "      <td>35000.0</td>\n",
       "      <td>17654.0</td>\n",
       "      <td>1</td>\n",
       "      <td>3.0</td>\n",
       "      <td>110.0</td>\n",
       "      <td>TVS</td>\n",
       "    </tr>\n",
       "    <tr>\n",
       "      <th>1</th>\n",
       "      <td>Royal Enfield Classic 350cc</td>\n",
       "      <td>119900.0</td>\n",
       "      <td>11000.0</td>\n",
       "      <td>1</td>\n",
       "      <td>4.0</td>\n",
       "      <td>350.0</td>\n",
       "      <td>Royal Enfield</td>\n",
       "    </tr>\n",
       "    <tr>\n",
       "      <th>2</th>\n",
       "      <td>Triumph Daytona 675R</td>\n",
       "      <td>600000.0</td>\n",
       "      <td>110.0</td>\n",
       "      <td>1</td>\n",
       "      <td>8.0</td>\n",
       "      <td>675.0</td>\n",
       "      <td>Triumph</td>\n",
       "    </tr>\n",
       "    <tr>\n",
       "      <th>3</th>\n",
       "      <td>TVS Apache RTR 180cc</td>\n",
       "      <td>65000.0</td>\n",
       "      <td>16329.0</td>\n",
       "      <td>1</td>\n",
       "      <td>4.0</td>\n",
       "      <td>180.0</td>\n",
       "      <td>TVS</td>\n",
       "    </tr>\n",
       "    <tr>\n",
       "      <th>4</th>\n",
       "      <td>Yamaha FZ S V 2.0 150cc-Ltd. Edition</td>\n",
       "      <td>80000.0</td>\n",
       "      <td>10000.0</td>\n",
       "      <td>1</td>\n",
       "      <td>3.0</td>\n",
       "      <td>150.0</td>\n",
       "      <td>Yamaha</td>\n",
       "    </tr>\n",
       "    <tr>\n",
       "      <th>...</th>\n",
       "      <td>...</td>\n",
       "      <td>...</td>\n",
       "      <td>...</td>\n",
       "      <td>...</td>\n",
       "      <td>...</td>\n",
       "      <td>...</td>\n",
       "      <td>...</td>\n",
       "    </tr>\n",
       "    <tr>\n",
       "      <th>32643</th>\n",
       "      <td>Hero Passion Pro 100cc</td>\n",
       "      <td>39000.0</td>\n",
       "      <td>22000.0</td>\n",
       "      <td>1</td>\n",
       "      <td>4.0</td>\n",
       "      <td>100.0</td>\n",
       "      <td>Hero</td>\n",
       "    </tr>\n",
       "    <tr>\n",
       "      <th>32644</th>\n",
       "      <td>TVS Apache RTR 180cc</td>\n",
       "      <td>30000.0</td>\n",
       "      <td>6639.0</td>\n",
       "      <td>1</td>\n",
       "      <td>9.0</td>\n",
       "      <td>180.0</td>\n",
       "      <td>TVS</td>\n",
       "    </tr>\n",
       "    <tr>\n",
       "      <th>32645</th>\n",
       "      <td>Bajaj Avenger Street 220</td>\n",
       "      <td>60000.0</td>\n",
       "      <td>20373.0</td>\n",
       "      <td>1</td>\n",
       "      <td>6.0</td>\n",
       "      <td>220.0</td>\n",
       "      <td>Bajaj</td>\n",
       "    </tr>\n",
       "    <tr>\n",
       "      <th>32646</th>\n",
       "      <td>Hero Super Splendor 125cc</td>\n",
       "      <td>15600.0</td>\n",
       "      <td>84186.0</td>\n",
       "      <td>1</td>\n",
       "      <td>16.0</td>\n",
       "      <td>125.0</td>\n",
       "      <td>Hero</td>\n",
       "    </tr>\n",
       "    <tr>\n",
       "      <th>32647</th>\n",
       "      <td>Bajaj Pulsar 150cc</td>\n",
       "      <td>22000.0</td>\n",
       "      <td>60857.0</td>\n",
       "      <td>1</td>\n",
       "      <td>13.0</td>\n",
       "      <td>150.0</td>\n",
       "      <td>Bajaj</td>\n",
       "    </tr>\n",
       "  </tbody>\n",
       "</table>\n",
       "<p>32648 rows × 7 columns</p>\n",
       "</div>"
      ],
      "text/plain": [
       "                                  bike_name     price  kms_driven  owner  \\\n",
       "0        TVS Star City Plus Dual Tone 110cc   35000.0     17654.0      1   \n",
       "1               Royal Enfield Classic 350cc  119900.0     11000.0      1   \n",
       "2                      Triumph Daytona 675R  600000.0       110.0      1   \n",
       "3                      TVS Apache RTR 180cc   65000.0     16329.0      1   \n",
       "4      Yamaha FZ S V 2.0 150cc-Ltd. Edition   80000.0     10000.0      1   \n",
       "...                                     ...       ...         ...    ...   \n",
       "32643                Hero Passion Pro 100cc   39000.0     22000.0      1   \n",
       "32644                  TVS Apache RTR 180cc   30000.0      6639.0      1   \n",
       "32645              Bajaj Avenger Street 220   60000.0     20373.0      1   \n",
       "32646             Hero Super Splendor 125cc   15600.0     84186.0      1   \n",
       "32647                    Bajaj Pulsar 150cc   22000.0     60857.0      1   \n",
       "\n",
       "        age  power          brand  \n",
       "0       3.0  110.0            TVS  \n",
       "1       4.0  350.0  Royal Enfield  \n",
       "2       8.0  675.0        Triumph  \n",
       "3       4.0  180.0            TVS  \n",
       "4       3.0  150.0         Yamaha  \n",
       "...     ...    ...            ...  \n",
       "32643   4.0  100.0           Hero  \n",
       "32644   9.0  180.0            TVS  \n",
       "32645   6.0  220.0          Bajaj  \n",
       "32646  16.0  125.0           Hero  \n",
       "32647  13.0  150.0          Bajaj  \n",
       "\n",
       "[32648 rows x 7 columns]"
      ]
     },
     "execution_count": 144,
     "metadata": {},
     "output_type": "execute_result"
    }
   ],
   "source": [
    "data"
   ]
  },
  {
   "cell_type": "code",
   "execution_count": 145,
   "id": "3b5715d2",
   "metadata": {},
   "outputs": [],
   "source": [
    "data.to_csv('cleaned_data.csv')"
   ]
  },
  {
   "cell_type": "code",
   "execution_count": null,
   "id": "066788b6",
   "metadata": {},
   "outputs": [],
   "source": []
  }
 ],
 "metadata": {
  "kernelspec": {
   "display_name": "Python 3 (ipykernel)",
   "language": "python",
   "name": "python3"
  },
  "language_info": {
   "codemirror_mode": {
    "name": "ipython",
    "version": 3
   },
   "file_extension": ".py",
   "mimetype": "text/x-python",
   "name": "python",
   "nbconvert_exporter": "python",
   "pygments_lexer": "ipython3",
   "version": "3.9.7"
  }
 },
 "nbformat": 4,
 "nbformat_minor": 5
}
